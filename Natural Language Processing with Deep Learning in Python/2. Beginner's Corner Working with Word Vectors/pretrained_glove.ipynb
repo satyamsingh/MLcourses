{
 "cells": [
  {
   "cell_type": "code",
   "execution_count": 1,
   "id": "7cc4b9b6",
   "metadata": {},
   "outputs": [],
   "source": [
    "# WHERE TO GET THE VECTORS:\n",
    "# GloVe: https://nlp.stanford.edu/projects/glove/\n",
    "# Direct link: http://nlp.stanford.edu/data/glove.6B.zip\n",
    "import numpy as np\n",
    "from sklearn.metrics.pairwise import pairwise_distances\n",
    "import time"
   ]
  },
  {
   "cell_type": "code",
   "execution_count": 2,
   "id": "93009246",
   "metadata": {},
   "outputs": [],
   "source": [
    "def dist1(a, b):\n",
    "    return np.linalg.norm(a-b)\n",
    "\n",
    "def dist2(a, b):\n",
    "    return 1 - a.dot(b)/(np.linalg.norm(a)*np.linalg.norm(b))"
   ]
  },
  {
   "cell_type": "code",
   "execution_count": 3,
   "id": "9d2b6167",
   "metadata": {},
   "outputs": [],
   "source": [
    "dist2(np.array([1,0,1]), np.array([2,0,2]))\n",
    "a = np.array([1,0,1])\n",
    "b = np.array([2,0,2])"
   ]
  },
  {
   "cell_type": "code",
   "execution_count": 4,
   "id": "61dbc862",
   "metadata": {},
   "outputs": [],
   "source": [
    "def dist2(a, b):\n",
    "    return 1 - a.dot(b) / (np.linalg.norm(a) * np.linalg.norm(b))"
   ]
  },
  {
   "cell_type": "code",
   "execution_count": 5,
   "id": "ea0abbd2",
   "metadata": {},
   "outputs": [],
   "source": [
    "# pick a distance type\n",
    "dist, metric = dist2, 'cosine'\n",
    "# dist, metric = dist1, 'euclidean'"
   ]
  },
  {
   "cell_type": "code",
   "execution_count": 6,
   "id": "9f047653",
   "metadata": {},
   "outputs": [
    {
     "name": "stdout",
     "output_type": "stream",
     "text": [
      "Loading word vectors...\n",
      "Found 400000 word vectors.\n"
     ]
    }
   ],
   "source": [
    "# load in pre-trained word vectors\n",
    "print('Loading word vectors...')\n",
    "word2vec = {}\n",
    "embedding = []\n",
    "idx2word = []\n",
    "with open('glove.6B/glove.6B.50d.txt', encoding='utf-8') as f:\n",
    "  # is just a space-separated text file in the format:\n",
    "  # word vec[0] vec[1] vec[2] ...\n",
    "    for line in f:\n",
    "        values = line.split()\n",
    "        word = values[0]\n",
    "        vec = np.asarray(values[1:], dtype='float32')\n",
    "        word2vec[word] = vec\n",
    "        embedding.append(vec)\n",
    "        idx2word.append(word)\n",
    "print('Found %s word vectors.' % len(word2vec))\n",
    "embedding = np.array(embedding)\n",
    "V, D = embedding.shape"
   ]
  },
  {
   "cell_type": "code",
   "execution_count": 7,
   "id": "83527ea1",
   "metadata": {},
   "outputs": [
    {
     "name": "stdout",
     "output_type": "stream",
     "text": [
      "king - man = queen - woman\n",
      "Time taken: 2.0605 milliseconds\n"
     ]
    }
   ],
   "source": [
    "\n",
    "## more intuitive\n",
    "def find_analogies(w1, w2, w3):\n",
    "    start_time = time.time()\n",
    "    for w in (w1, w2, w3):\n",
    "        if w not in word2vec:\n",
    "            print(\"%s not in dictionary\" % w)\n",
    "            return\n",
    "\n",
    "    king = word2vec[w1]\n",
    "    man = word2vec[w2]\n",
    "    woman = word2vec[w3]\n",
    "    v0 = king - man + woman\n",
    "\n",
    "    min_dist = float('inf')\n",
    "    best_word = ''\n",
    "    for word, v1 in word2vec.items():\n",
    "        if word not in (w1, w2, w3):\n",
    "            d = dist(v0, v1)\n",
    "        if d < min_dist:\n",
    "            min_dist = d\n",
    "            best_word = word\n",
    "    print(w1, \"-\", w2, \"=\", best_word, \"-\", w3)\n",
    "    print(f\"Time taken: {time.time()-start_time:.4f} milliseconds\")\n",
    "    \n",
    "find_analogies('king', 'man', 'woman')"
   ]
  },
  {
   "cell_type": "code",
   "execution_count": 8,
   "id": "57735ef3",
   "metadata": {},
   "outputs": [
    {
     "name": "stdout",
     "output_type": "stream",
     "text": [
      "king - man = queen - woman\n",
      "Time taken: 0.0792 milliseconds\n"
     ]
    }
   ],
   "source": [
    "## faster and more efficient\n",
    "def find_analogies(w1, w2, w3):\n",
    "    start_time = time.time()\n",
    "    for w in [w1, w2, w3]:\n",
    "        if w not in word2vec:\n",
    "            print(\"%s not in dictionary\", w)\n",
    "            return\n",
    "        \n",
    "    king = word2vec[w1]\n",
    "    man = word2vec[w2]\n",
    "    woman = word2vec[w3]\n",
    "    v0 = king - man + woman\n",
    "    \n",
    "    #print(\"v0 shape:\", v0.shape)\n",
    "    \n",
    "    best_word = ''\n",
    "    distances = pairwise_distances(v0.reshape(1, D), embedding, metric=metric).reshape(V)\n",
    "    #print(\"distances=\", distances)\n",
    "    idxs = distances.argsort()[:4] #We need to take 4 candidates as in the worst case, nearest 3 words can be the input itself.\n",
    "    for idx in idxs:\n",
    "        word = idx2word[idx]\n",
    "        if word not in [w1, w2, w3]:\n",
    "            best_word=word\n",
    "            break\n",
    "    print(w1, \"-\", w2, \"=\", best_word, \"-\", w3)\n",
    "    print(f\"Time taken: {time.time()-start_time:.4f} milliseconds\")\n",
    "\n",
    "find_analogies('king', 'man', 'woman')"
   ]
  },
  {
   "cell_type": "code",
   "execution_count": 9,
   "id": "c03be4cb",
   "metadata": {},
   "outputs": [],
   "source": [
    "def nearest_neighbors(w, n=5):\n",
    "    if w not in word2vec:\n",
    "        print(\"%s not in dictionary:\" % w)\n",
    "        return\n",
    "\n",
    "    v = word2vec[w]\n",
    "    distances = pairwise_distances(v.reshape(1, D), embedding, metric=metric).reshape(V)\n",
    "    idxs = distances.argsort()[1:n+1]\n",
    "    print(\"neighbors of: %s\" % w)\n",
    "    for idx in idxs:\n",
    "        print(\"\\t%s\" % idx2word[idx])\n",
    "        \n",
    "    "
   ]
  },
  {
   "cell_type": "code",
   "execution_count": 10,
   "id": "78846de6",
   "metadata": {},
   "outputs": [
    {
     "name": "stdout",
     "output_type": "stream",
     "text": [
      "france - paris = britain - london\n",
      "Time taken: 0.0810 milliseconds\n"
     ]
    }
   ],
   "source": [
    "find_analogies('france', 'paris', 'london')"
   ]
  },
  {
   "cell_type": "code",
   "execution_count": 11,
   "id": "4d482443",
   "metadata": {},
   "outputs": [
    {
     "name": "stdout",
     "output_type": "stream",
     "text": [
      "neighbors of: king\n",
      "\tprince\n",
      "\tqueen\n",
      "\tii\n",
      "\temperor\n",
      "\tson\n"
     ]
    }
   ],
   "source": [
    "nearest_neighbors('king')"
   ]
  },
  {
   "cell_type": "code",
   "execution_count": 12,
   "id": "b85ec771",
   "metadata": {},
   "outputs": [
    {
     "name": "stdout",
     "output_type": "stream",
     "text": [
      "france - paris = italy - rome\n",
      "Time taken: 0.0821 milliseconds\n",
      "paris - france = rome - italy\n",
      "Time taken: 0.0884 milliseconds\n",
      "france - french = england - english\n",
      "Time taken: 0.0826 milliseconds\n",
      "japan - japanese = china - chinese\n",
      "Time taken: 0.0961 milliseconds\n",
      "japan - japanese = italy - italian\n",
      "Time taken: 0.0884 milliseconds\n",
      "japan - japanese = australia - australian\n",
      "Time taken: 0.0928 milliseconds\n",
      "december - november = july - june\n",
      "Time taken: 0.0943 milliseconds\n",
      "miami - florida = houston - texas\n",
      "Time taken: 0.0845 milliseconds\n",
      "einstein - scientist = matisse - painter\n",
      "Time taken: 0.1111 milliseconds\n",
      "china - rice = chinese - bread\n",
      "Time taken: 0.1034 milliseconds\n",
      "man - woman = he - she\n",
      "Time taken: 0.0838 milliseconds\n",
      "man - woman = uncle - aunt\n",
      "Time taken: 0.1031 milliseconds\n",
      "man - woman = brother - sister\n",
      "Time taken: 0.0812 milliseconds\n",
      "man - woman = friend - wife\n",
      "Time taken: 0.0860 milliseconds\n",
      "man - woman = actor - actress\n",
      "Time taken: 0.0972 milliseconds\n",
      "man - woman = father - mother\n",
      "Time taken: 0.1019 milliseconds\n",
      "heir - heiress = queen - princess\n",
      "Time taken: 0.0855 milliseconds\n",
      "nephew - niece = uncle - aunt\n",
      "Time taken: 0.0885 milliseconds\n",
      "france - paris = japan - tokyo\n",
      "Time taken: 0.0979 milliseconds\n",
      "france - paris = china - beijing\n",
      "Time taken: 0.0831 milliseconds\n",
      "february - january = october - november\n",
      "Time taken: 0.0944 milliseconds\n",
      "france - paris = italy - rome\n",
      "Time taken: 0.0875 milliseconds\n",
      "paris - france = rome - italy\n",
      "Time taken: 0.0820 milliseconds\n"
     ]
    }
   ],
   "source": [
    "find_analogies('france', 'paris', 'rome')\n",
    "find_analogies('paris', 'france', 'italy')\n",
    "find_analogies('france', 'french', 'english')\n",
    "find_analogies('japan', 'japanese', 'chinese')\n",
    "find_analogies('japan', 'japanese', 'italian')\n",
    "find_analogies('japan', 'japanese', 'australian')\n",
    "find_analogies('december', 'november', 'june')\n",
    "find_analogies('miami', 'florida', 'texas')\n",
    "find_analogies('einstein', 'scientist', 'painter')\n",
    "find_analogies('china', 'rice', 'bread')\n",
    "find_analogies('man', 'woman', 'she')\n",
    "find_analogies('man', 'woman', 'aunt')\n",
    "find_analogies('man', 'woman', 'sister')\n",
    "find_analogies('man', 'woman', 'wife')\n",
    "find_analogies('man', 'woman', 'actress')\n",
    "find_analogies('man', 'woman', 'mother')\n",
    "find_analogies('heir', 'heiress', 'princess')\n",
    "find_analogies('nephew', 'niece', 'aunt')\n",
    "find_analogies('france', 'paris', 'tokyo')\n",
    "find_analogies('france', 'paris', 'beijing')\n",
    "find_analogies('february', 'january', 'november')\n",
    "find_analogies('france', 'paris', 'rome')\n",
    "find_analogies('paris', 'france', 'italy')"
   ]
  },
  {
   "cell_type": "code",
   "execution_count": 13,
   "id": "cfd8f551",
   "metadata": {},
   "outputs": [
    {
     "name": "stdout",
     "output_type": "stream",
     "text": [
      "neighbors of: king\n",
      "\tprince\n",
      "\tqueen\n",
      "\tii\n",
      "\temperor\n",
      "\tson\n",
      "neighbors of: france\n",
      "\tfrench\n",
      "\tbelgium\n",
      "\tparis\n",
      "\tspain\n",
      "\tnetherlands\n",
      "neighbors of: japan\n",
      "\tjapanese\n",
      "\tchina\n",
      "\tkorea\n",
      "\ttokyo\n",
      "\ttaiwan\n",
      "neighbors of: einstein\n",
      "\trelativity\n",
      "\tbohr\n",
      "\tphysics\n",
      "\theisenberg\n",
      "\tfreud\n",
      "neighbors of: woman\n",
      "\tgirl\n",
      "\tman\n",
      "\tmother\n",
      "\ther\n",
      "\tboy\n",
      "neighbors of: nephew\n",
      "\tcousin\n",
      "\tbrother\n",
      "\tgrandson\n",
      "\tson\n",
      "\tuncle\n",
      "neighbors of: february\n",
      "\toctober\n",
      "\tdecember\n",
      "\tjanuary\n",
      "\taugust\n",
      "\tseptember\n",
      "neighbors of: rome\n",
      "\tnaples\n",
      "\tvenice\n",
      "\titaly\n",
      "\tturin\n",
      "\tpope\n"
     ]
    }
   ],
   "source": [
    "nearest_neighbors('king')\n",
    "nearest_neighbors('france')\n",
    "nearest_neighbors('japan')\n",
    "nearest_neighbors('einstein')\n",
    "nearest_neighbors('woman')\n",
    "nearest_neighbors('nephew')\n",
    "nearest_neighbors('february')\n",
    "nearest_neighbors('rome')"
   ]
  },
  {
   "cell_type": "code",
   "execution_count": null,
   "id": "1456f1b5",
   "metadata": {},
   "outputs": [],
   "source": []
  }
 ],
 "metadata": {
  "kernelspec": {
   "display_name": "Python [conda env:tensorflow] *",
   "language": "python",
   "name": "conda-env-tensorflow-py"
  },
  "language_info": {
   "codemirror_mode": {
    "name": "ipython",
    "version": 3
   },
   "file_extension": ".py",
   "mimetype": "text/x-python",
   "name": "python",
   "nbconvert_exporter": "python",
   "pygments_lexer": "ipython3",
   "version": "3.9.10"
  }
 },
 "nbformat": 4,
 "nbformat_minor": 5
}
