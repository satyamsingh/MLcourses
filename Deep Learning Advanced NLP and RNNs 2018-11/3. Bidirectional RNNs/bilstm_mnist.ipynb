{
 "cells": [
  {
   "cell_type": "code",
   "execution_count": null,
   "id": "7cee57f6",
   "metadata": {},
   "outputs": [],
   "source": [
    "import time\n",
    "print(time.time())\n",
    "nb_start_time = time.time()\n",
    "\n",
    "import os\n",
    "from keras.models import Model\n"
   ]
  }
 ],
 "metadata": {
  "kernelspec": {
   "display_name": "Python [conda env:tensorflow] *",
   "language": "python",
   "name": "conda-env-tensorflow-py"
  },
  "language_info": {
   "codemirror_mode": {
    "name": "ipython",
    "version": 3
   },
   "file_extension": ".py",
   "mimetype": "text/x-python",
   "name": "python",
   "nbconvert_exporter": "python",
   "pygments_lexer": "ipython3",
   "version": "3.9.10"
  }
 },
 "nbformat": 4,
 "nbformat_minor": 5
}
